{
 "cells": [
  {
   "cell_type": "markdown",
   "metadata": {},
   "source": [
    "# タイムスタンプの処理\n",
    "\n",
    "APIのタイムスタンプは、UNIX（エポック秒）時間です。UNIX時間は協定世界時 (UTC) での1970年1月1日午前0時0分0秒からの経過秒数を指します。\n",
    "\n",
    "ここでは、タイムスタンプを協定世界時に変換します。\n",
    "\n",
    "`get_transactions` メソッドから、2017年3月13日のbtc_jpyを取得します。"
   ]
  },
  {
   "cell_type": "code",
   "execution_count": 1,
   "metadata": {},
   "outputs": [
    {
     "data": {
      "text/plain": [
       "[{'transaction_id': 66846,\n",
       "  'side': 'buy',\n",
       "  'price': '142476',\n",
       "  'amount': '0.0008',\n",
       "  'executed_at': 1489363215164},\n",
       " {'transaction_id': 66847,\n",
       "  'side': 'buy',\n",
       "  'price': '142498',\n",
       "  'amount': '0.0002',\n",
       "  'executed_at': 1489363229612},\n",
       " {'transaction_id': 66848,\n",
       "  'side': 'buy',\n",
       "  'price': '142496',\n",
       "  'amount': '0.0003',\n",
       "  'executed_at': 1489363244589},\n",
       " {'transaction_id': 66849,\n",
       "  'side': 'buy',\n",
       "  'price': '142500',\n",
       "  'amount': '0.0002',\n",
       "  'executed_at': 1489363258597},\n",
       " {'transaction_id': 66850,\n",
       "  'side': 'buy',\n",
       "  'price': '142474',\n",
       "  'amount': '0.0010',\n",
       "  'executed_at': 1489363275582}]"
      ]
     },
     "execution_count": 1,
     "metadata": {},
     "output_type": "execute_result"
    }
   ],
   "source": [
    "import python_bitbankcc\n",
    "\n",
    "public = python_bitbankcc.public()\n",
    "transactions = public.get_transactions(\"btc_jpy\", \"20170313\")\n",
    "transactions[\"transactions\"][:5]"
   ]
  },
  {
   "cell_type": "markdown",
   "metadata": {},
   "source": [
    "ここでは、最初のタイムスタンプを変換します。"
   ]
  },
  {
   "cell_type": "code",
   "execution_count": 2,
   "metadata": {},
   "outputs": [
    {
     "data": {
      "text/plain": [
       "1489363215164"
      ]
     },
     "execution_count": 2,
     "metadata": {},
     "output_type": "execute_result"
    }
   ],
   "source": [
    "timestamp = transactions[\"transactions\"][0][\"executed_at\"]\n",
    "timestamp\n"
   ]
  },
  {
   "cell_type": "markdown",
   "metadata": {},
   "source": [
    "## タイムスタンプから日付への変換\n",
    "\n",
    "Python標準ライブラリの `datetime.datetime.fromtimestamp` 関数は、POSIXタイムスタンプに対応するローカルな日付を返します。\n",
    "\n",
    "```{seealso}\n",
    "Python公式ドキュメント\n",
    "\n",
    "datetime --- 基本的な日付と時間の型\n",
    "\n",
    "https://docs.python.org/ja/3/library/datetime.html#datetime.date.fromtimestamp\n",
    "```"
   ]
  },
  {
   "cell_type": "code",
   "execution_count": 3,
   "metadata": {},
   "outputs": [
    {
     "data": {
      "text/plain": [
       "datetime.datetime(2017, 3, 13, 9, 0, 15, 164000)"
      ]
     },
     "execution_count": 3,
     "metadata": {},
     "output_type": "execute_result"
    }
   ],
   "source": [
    "import datetime\n",
    "\n",
    "datetime.datetime.fromtimestamp(timestamp * 0.001)"
   ]
  },
  {
   "cell_type": "markdown",
   "metadata": {},
   "source": [
    "## pandasのDataFrameから一括変換\n",
    "\n",
    "ここではpandasのDataFrameに読み込み、executed_at列を日付型に変換します。"
   ]
  },
  {
   "cell_type": "code",
   "execution_count": 4,
   "metadata": {},
   "outputs": [
    {
     "data": {
      "text/html": [
       "<div>\n",
       "<style scoped>\n",
       "    .dataframe tbody tr th:only-of-type {\n",
       "        vertical-align: middle;\n",
       "    }\n",
       "\n",
       "    .dataframe tbody tr th {\n",
       "        vertical-align: top;\n",
       "    }\n",
       "\n",
       "    .dataframe thead th {\n",
       "        text-align: right;\n",
       "    }\n",
       "</style>\n",
       "<table border=\"1\" class=\"dataframe\">\n",
       "  <thead>\n",
       "    <tr style=\"text-align: right;\">\n",
       "      <th></th>\n",
       "      <th>transaction_id</th>\n",
       "      <th>side</th>\n",
       "      <th>price</th>\n",
       "      <th>amount</th>\n",
       "      <th>executed_at</th>\n",
       "    </tr>\n",
       "  </thead>\n",
       "  <tbody>\n",
       "    <tr>\n",
       "      <th>0</th>\n",
       "      <td>66846</td>\n",
       "      <td>buy</td>\n",
       "      <td>142476</td>\n",
       "      <td>0.0008</td>\n",
       "      <td>1489363215164</td>\n",
       "    </tr>\n",
       "    <tr>\n",
       "      <th>1</th>\n",
       "      <td>66847</td>\n",
       "      <td>buy</td>\n",
       "      <td>142498</td>\n",
       "      <td>0.0002</td>\n",
       "      <td>1489363229612</td>\n",
       "    </tr>\n",
       "    <tr>\n",
       "      <th>2</th>\n",
       "      <td>66848</td>\n",
       "      <td>buy</td>\n",
       "      <td>142496</td>\n",
       "      <td>0.0003</td>\n",
       "      <td>1489363244589</td>\n",
       "    </tr>\n",
       "    <tr>\n",
       "      <th>3</th>\n",
       "      <td>66849</td>\n",
       "      <td>buy</td>\n",
       "      <td>142500</td>\n",
       "      <td>0.0002</td>\n",
       "      <td>1489363258597</td>\n",
       "    </tr>\n",
       "    <tr>\n",
       "      <th>4</th>\n",
       "      <td>66850</td>\n",
       "      <td>buy</td>\n",
       "      <td>142474</td>\n",
       "      <td>0.0010</td>\n",
       "      <td>1489363275582</td>\n",
       "    </tr>\n",
       "  </tbody>\n",
       "</table>\n",
       "</div>"
      ],
      "text/plain": [
       "   transaction_id side   price  amount    executed_at\n",
       "0           66846  buy  142476  0.0008  1489363215164\n",
       "1           66847  buy  142498  0.0002  1489363229612\n",
       "2           66848  buy  142496  0.0003  1489363244589\n",
       "3           66849  buy  142500  0.0002  1489363258597\n",
       "4           66850  buy  142474  0.0010  1489363275582"
      ]
     },
     "execution_count": 4,
     "metadata": {},
     "output_type": "execute_result"
    }
   ],
   "source": [
    "import pandas as pd\n",
    "\n",
    "df = pd.DataFrame(transactions[\"transactions\"])\n",
    "df.head()"
   ]
  },
  {
   "cell_type": "markdown",
   "metadata": {},
   "source": [
    "タイムスタンプを日付型に変換する `timestamp_to_datetime` 関数を作成します。"
   ]
  },
  {
   "cell_type": "code",
   "execution_count": 5,
   "metadata": {},
   "outputs": [],
   "source": [
    "def timestamp_to_datetime(timestamp: int) -> datetime.datetime:\n",
    "    return datetime.datetime.fromtimestamp(timestamp * 0.001)"
   ]
  },
  {
   "cell_type": "markdown",
   "metadata": {},
   "source": [
    "`pandas.Series` の `map` メソッドは、引数に渡した関数をSeriesの各要素に対して実行します。"
   ]
  },
  {
   "cell_type": "code",
   "execution_count": 6,
   "metadata": {},
   "outputs": [
    {
     "data": {
      "text/plain": [
       "0      2017-03-13 09:00:15.164\n",
       "1      2017-03-13 09:00:29.612\n",
       "2      2017-03-13 09:00:44.589\n",
       "3      2017-03-13 09:00:58.597\n",
       "4      2017-03-13 09:01:15.582\n",
       "                 ...          \n",
       "7956   2017-03-14 08:58:51.595\n",
       "7957   2017-03-14 08:59:13.581\n",
       "7958   2017-03-14 08:59:28.122\n",
       "7959   2017-03-14 08:59:42.161\n",
       "7960   2017-03-14 08:59:57.156\n",
       "Name: executed_at, Length: 7961, dtype: datetime64[ns]"
      ]
     },
     "execution_count": 6,
     "metadata": {},
     "output_type": "execute_result"
    }
   ],
   "source": [
    "df.loc[:, \"executed_at\"].map(timestamp_to_datetime)"
   ]
  },
  {
   "cell_type": "markdown",
   "metadata": {},
   "source": [
    "`pandas.DataFrame` の `assign` メソッドは列を追加して返します。"
   ]
  },
  {
   "cell_type": "code",
   "execution_count": 7,
   "metadata": {},
   "outputs": [
    {
     "data": {
      "text/html": [
       "<div>\n",
       "<style scoped>\n",
       "    .dataframe tbody tr th:only-of-type {\n",
       "        vertical-align: middle;\n",
       "    }\n",
       "\n",
       "    .dataframe tbody tr th {\n",
       "        vertical-align: top;\n",
       "    }\n",
       "\n",
       "    .dataframe thead th {\n",
       "        text-align: right;\n",
       "    }\n",
       "</style>\n",
       "<table border=\"1\" class=\"dataframe\">\n",
       "  <thead>\n",
       "    <tr style=\"text-align: right;\">\n",
       "      <th></th>\n",
       "      <th>transaction_id</th>\n",
       "      <th>side</th>\n",
       "      <th>price</th>\n",
       "      <th>amount</th>\n",
       "      <th>executed_at</th>\n",
       "      <th>datetime</th>\n",
       "    </tr>\n",
       "  </thead>\n",
       "  <tbody>\n",
       "    <tr>\n",
       "      <th>0</th>\n",
       "      <td>66846</td>\n",
       "      <td>buy</td>\n",
       "      <td>142476</td>\n",
       "      <td>0.0008</td>\n",
       "      <td>1489363215164</td>\n",
       "      <td>2017-03-13 09:00:15.164</td>\n",
       "    </tr>\n",
       "    <tr>\n",
       "      <th>1</th>\n",
       "      <td>66847</td>\n",
       "      <td>buy</td>\n",
       "      <td>142498</td>\n",
       "      <td>0.0002</td>\n",
       "      <td>1489363229612</td>\n",
       "      <td>2017-03-13 09:00:29.612</td>\n",
       "    </tr>\n",
       "    <tr>\n",
       "      <th>2</th>\n",
       "      <td>66848</td>\n",
       "      <td>buy</td>\n",
       "      <td>142496</td>\n",
       "      <td>0.0003</td>\n",
       "      <td>1489363244589</td>\n",
       "      <td>2017-03-13 09:00:44.589</td>\n",
       "    </tr>\n",
       "    <tr>\n",
       "      <th>3</th>\n",
       "      <td>66849</td>\n",
       "      <td>buy</td>\n",
       "      <td>142500</td>\n",
       "      <td>0.0002</td>\n",
       "      <td>1489363258597</td>\n",
       "      <td>2017-03-13 09:00:58.597</td>\n",
       "    </tr>\n",
       "    <tr>\n",
       "      <th>4</th>\n",
       "      <td>66850</td>\n",
       "      <td>buy</td>\n",
       "      <td>142474</td>\n",
       "      <td>0.0010</td>\n",
       "      <td>1489363275582</td>\n",
       "      <td>2017-03-13 09:01:15.582</td>\n",
       "    </tr>\n",
       "    <tr>\n",
       "      <th>...</th>\n",
       "      <td>...</td>\n",
       "      <td>...</td>\n",
       "      <td>...</td>\n",
       "      <td>...</td>\n",
       "      <td>...</td>\n",
       "      <td>...</td>\n",
       "    </tr>\n",
       "    <tr>\n",
       "      <th>7956</th>\n",
       "      <td>74802</td>\n",
       "      <td>buy</td>\n",
       "      <td>143850</td>\n",
       "      <td>0.0002</td>\n",
       "      <td>1489449531595</td>\n",
       "      <td>2017-03-14 08:58:51.595</td>\n",
       "    </tr>\n",
       "    <tr>\n",
       "      <th>7957</th>\n",
       "      <td>74803</td>\n",
       "      <td>buy</td>\n",
       "      <td>143847</td>\n",
       "      <td>0.0001</td>\n",
       "      <td>1489449553581</td>\n",
       "      <td>2017-03-14 08:59:13.581</td>\n",
       "    </tr>\n",
       "    <tr>\n",
       "      <th>7958</th>\n",
       "      <td>74804</td>\n",
       "      <td>buy</td>\n",
       "      <td>143847</td>\n",
       "      <td>0.0002</td>\n",
       "      <td>1489449568122</td>\n",
       "      <td>2017-03-14 08:59:28.122</td>\n",
       "    </tr>\n",
       "    <tr>\n",
       "      <th>7959</th>\n",
       "      <td>74805</td>\n",
       "      <td>buy</td>\n",
       "      <td>143847</td>\n",
       "      <td>0.0007</td>\n",
       "      <td>1489449582161</td>\n",
       "      <td>2017-03-14 08:59:42.161</td>\n",
       "    </tr>\n",
       "    <tr>\n",
       "      <th>7960</th>\n",
       "      <td>74806</td>\n",
       "      <td>buy</td>\n",
       "      <td>143844</td>\n",
       "      <td>0.0010</td>\n",
       "      <td>1489449597156</td>\n",
       "      <td>2017-03-14 08:59:57.156</td>\n",
       "    </tr>\n",
       "  </tbody>\n",
       "</table>\n",
       "<p>7961 rows × 6 columns</p>\n",
       "</div>"
      ],
      "text/plain": [
       "      transaction_id side   price  amount    executed_at  \\\n",
       "0              66846  buy  142476  0.0008  1489363215164   \n",
       "1              66847  buy  142498  0.0002  1489363229612   \n",
       "2              66848  buy  142496  0.0003  1489363244589   \n",
       "3              66849  buy  142500  0.0002  1489363258597   \n",
       "4              66850  buy  142474  0.0010  1489363275582   \n",
       "...              ...  ...     ...     ...            ...   \n",
       "7956           74802  buy  143850  0.0002  1489449531595   \n",
       "7957           74803  buy  143847  0.0001  1489449553581   \n",
       "7958           74804  buy  143847  0.0002  1489449568122   \n",
       "7959           74805  buy  143847  0.0007  1489449582161   \n",
       "7960           74806  buy  143844  0.0010  1489449597156   \n",
       "\n",
       "                    datetime  \n",
       "0    2017-03-13 09:00:15.164  \n",
       "1    2017-03-13 09:00:29.612  \n",
       "2    2017-03-13 09:00:44.589  \n",
       "3    2017-03-13 09:00:58.597  \n",
       "4    2017-03-13 09:01:15.582  \n",
       "...                      ...  \n",
       "7956 2017-03-14 08:58:51.595  \n",
       "7957 2017-03-14 08:59:13.581  \n",
       "7958 2017-03-14 08:59:28.122  \n",
       "7959 2017-03-14 08:59:42.161  \n",
       "7960 2017-03-14 08:59:57.156  \n",
       "\n",
       "[7961 rows x 6 columns]"
      ]
     },
     "execution_count": 7,
     "metadata": {},
     "output_type": "execute_result"
    }
   ],
   "source": [
    "df.assign(datetime=df.loc[:, \"executed_at\"].map(timestamp_to_datetime))"
   ]
  }
 ],
 "metadata": {
  "kernelspec": {
   "display_name": ".venv",
   "language": "python",
   "name": "python3"
  },
  "language_info": {
   "codemirror_mode": {
    "name": "ipython",
    "version": 3
   },
   "file_extension": ".py",
   "mimetype": "text/x-python",
   "name": "python",
   "nbconvert_exporter": "python",
   "pygments_lexer": "ipython3",
   "version": "3.12.4"
  }
 },
 "nbformat": 4,
 "nbformat_minor": 2
}
